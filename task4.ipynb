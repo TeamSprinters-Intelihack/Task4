{
 "cells": [
  {
   "cell_type": "code",
   "execution_count": 2,
   "id": "c6ba472a",
   "metadata": {},
   "outputs": [
    {
     "data": {
      "text/plain": [
       "0         Kids Watches\n",
       "1         Kids Watches\n",
       "2         Kids Watches\n",
       "3         Kids Watches\n",
       "4         Kids Watches\n",
       "             ...      \n",
       "1073    Womens Watches\n",
       "1074    Womens Watches\n",
       "1075    Womens Watches\n",
       "1076    Womens Watches\n",
       "1077    Womens Watches\n",
       "Name: Category, Length: 1078, dtype: object"
      ]
     },
     "execution_count": 2,
     "metadata": {},
     "output_type": "execute_result"
    }
   ],
   "source": [
    "import pandas as pd\n",
    "data=pd.read_csv(\"Watches_Bags_Accessories.csv\", encoding='latin1')\n",
    "data['Category']"
   ]
  },
  {
   "cell_type": "code",
   "execution_count": 4,
   "id": "fe05dc65",
   "metadata": {},
   "outputs": [],
   "source": [
    "new_category=data['Category']"
   ]
  },
  {
   "cell_type": "code",
   "execution_count": 6,
   "id": "9d9bac22",
   "metadata": {},
   "outputs": [],
   "source": [
    "from sklearn.preprocessing import LabelEncoder\n",
    "obj=LabelEncoder()\n",
    "Category=obj.fit_transform(new_category)"
   ]
  },
  {
   "cell_type": "code",
   "execution_count": 7,
   "id": "b515bf79",
   "metadata": {},
   "outputs": [
    {
     "data": {
      "text/plain": [
       "array([0, 0, 0, ..., 6, 6, 6])"
      ]
     },
     "execution_count": 7,
     "metadata": {},
     "output_type": "execute_result"
    }
   ],
   "source": [
    "Category"
   ]
  },
  {
   "cell_type": "code",
   "execution_count": 8,
   "id": "185cc860",
   "metadata": {},
   "outputs": [
    {
     "data": {
      "text/plain": [
       "array(['Kids Watches', 'Mens Accessories', 'Mens Bags', 'Mens Watches',\n",
       "       'Womens Accessories', 'Womens Bags', 'Womens Watches'],\n",
       "      dtype=object)"
      ]
     },
     "execution_count": 8,
     "metadata": {},
     "output_type": "execute_result"
    }
   ],
   "source": [
    "obj.classes_"
   ]
  },
  {
   "cell_type": "code",
   "execution_count": 10,
   "id": "eb92a26b",
   "metadata": {},
   "outputs": [
    {
     "name": "stdout",
     "output_type": "stream",
     "text": [
      "                                               Title Rating in Stars  \\\n",
      "0  Yfashion Cartoon  Electronic  Watch Life Water...           4.6/5   \n",
      "1  100% Imported LED watch for men , boys and Kid...           4.3/5   \n",
      "2  1 Cartoon Characters Analog Wrist Watch For Ki...           4.5/5   \n",
      "3  M3 Touch LED Bracelet Digital Watch Band Good ...           4.6/5   \n",
      "4            led Watches For Boys and Girls and kids           4.4/5   \n",
      "\n",
      "   Rating Count Sold Count Voucher       Delivery Currency Current Price  \\\n",
      "0           707    6K Sold       0  Free Delivery      Rs.           287   \n",
      "1           293    1K Sold       0              0      Rs.           270   \n",
      "2            57   452 Sold       0  Free Delivery      Rs.           225   \n",
      "3            51   332 Sold       0  Free Delivery      Rs.           160   \n",
      "4            54   476 Sold       0  Free Delivery      Rs.           198   \n",
      "\n",
      "  Original Price                                               Link  \\\n",
      "0        Rs. 520  //www.daraz.pk/products/y-led-3-i258744118-s14...   \n",
      "1        Rs. 999  //www.daraz.pk/products/100-led-2023-i40167553...   \n",
      "2        Rs. 750  //www.daraz.pk/products/1-i423737473-s20070599...   \n",
      "3        Rs. 299  //www.daraz.pk/products/m3-led-led-i432456407-...   \n",
      "4        Rs. 300  //www.daraz.pk/products/led-i398157365-s192654...   \n",
      "\n",
      "       Category  \n",
      "0  Kids Watches  \n",
      "1  Kids Watches  \n",
      "2  Kids Watches  \n",
      "3  Kids Watches  \n",
      "4  Kids Watches  \n",
      "<class 'pandas.core.frame.DataFrame'>\n",
      "RangeIndex: 1078 entries, 0 to 1077\n",
      "Data columns (total 11 columns):\n",
      " #   Column           Non-Null Count  Dtype \n",
      "---  ------           --------------  ----- \n",
      " 0   Title            1078 non-null   object\n",
      " 1   Rating in Stars  1078 non-null   object\n",
      " 2   Rating Count     1078 non-null   int64 \n",
      " 3   Sold Count       1044 non-null   object\n",
      " 4   Voucher          1078 non-null   object\n",
      " 5   Delivery         1078 non-null   object\n",
      " 6   Currency         1078 non-null   object\n",
      " 7   Current Price    1078 non-null   object\n",
      " 8   Original Price   1010 non-null   object\n",
      " 9   Link             1078 non-null   object\n",
      " 10  Category         1078 non-null   object\n",
      "dtypes: int64(1), object(10)\n",
      "memory usage: 92.8+ KB\n",
      "None\n",
      "       Rating Count\n",
      "count   1078.000000\n",
      "mean     202.360853\n",
      "std      429.747239\n",
      "min        0.000000\n",
      "25%       25.000000\n",
      "50%       68.000000\n",
      "75%      184.750000\n",
      "max     5553.000000\n"
     ]
    }
   ],
   "source": [
    "print(data.head())\n",
    "print(data.info())\n",
    "print(data.describe())"
   ]
  },
  {
   "cell_type": "code",
   "execution_count": 13,
   "id": "c706229f",
   "metadata": {},
   "outputs": [],
   "source": [
    "label_encoder = LabelEncoder()\n",
    "data['Category'] = label_encoder.fit_transform(data['Category'])"
   ]
  },
  {
   "cell_type": "code",
   "execution_count": null,
   "id": "2ed3f2b2",
   "metadata": {},
   "outputs": [],
   "source": []
  },
  {
   "cell_type": "code",
   "execution_count": 18,
   "id": "9a3d891e",
   "metadata": {},
   "outputs": [],
   "source": [
    "X = data.drop(columns=['Category'])\n",
    "y = data['Category']"
   ]
  },
  {
   "cell_type": "code",
   "execution_count": null,
   "id": "b062c49d",
   "metadata": {},
   "outputs": [],
   "source": [
    "from sklearn.preprocessing import StandardScaler, LabelEncoder\n",
    "scaler = StandardScaler()\n",
    "X_scaled = scaler.fit_transform(X)"
   ]
  },
  {
   "cell_type": "code",
   "execution_count": null,
   "id": "f6747757",
   "metadata": {},
   "outputs": [],
   "source": [
    "X_train, X_test, y_train, y_test = train_test_split(X_scaled, y, test_size=0.2, random_state=42)\n",
    "model = RandomForestClassifier()\n",
    "model.fit(X_train, y_train)"
   ]
  },
  {
   "cell_type": "code",
   "execution_count": null,
   "id": "c8d8cbde",
   "metadata": {},
   "outputs": [],
   "source": [
    "y_pred = model.predict(X_test)\n",
    "accuracy = accuracy_score(y_test, y_pred)\n",
    "print(\"Accuracy:\", accuracy)"
   ]
  },
  {
   "cell_type": "code",
   "execution_count": null,
   "id": "091b9285",
   "metadata": {},
   "outputs": [],
   "source": [
    "y_pred_probabilities = model.predict_proba(X_test)"
   ]
  },
  {
   "cell_type": "code",
   "execution_count": null,
   "id": "7c89dab8",
   "metadata": {},
   "outputs": [],
   "source": [
    "top_three_classes = (-y_pred_probabilities).argsort()[:, :3]"
   ]
  },
  {
   "cell_type": "code",
   "execution_count": null,
   "id": "caea03ae",
   "metadata": {},
   "outputs": [],
   "source": []
  },
  {
   "cell_type": "code",
   "execution_count": null,
   "id": "9e6883c1",
   "metadata": {},
   "outputs": [],
   "source": []
  }
 ],
 "metadata": {
  "kernelspec": {
   "display_name": "Python 3 (ipykernel)",
   "language": "python",
   "name": "python3"
  },
  "language_info": {
   "codemirror_mode": {
    "name": "ipython",
    "version": 3
   },
   "file_extension": ".py",
   "mimetype": "text/x-python",
   "name": "python",
   "nbconvert_exporter": "python",
   "pygments_lexer": "ipython3",
   "version": "3.11.5"
  }
 },
 "nbformat": 4,
 "nbformat_minor": 5
}
